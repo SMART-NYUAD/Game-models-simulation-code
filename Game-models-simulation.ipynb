{
  "cells": [
    {
      "cell_type": "markdown",
      "metadata": {
        "id": "YfI4HEixDYdX"
      },
      "source": [
        "# Proposition 1"
      ]
    },
    {
      "cell_type": "code",
      "execution_count": null,
      "metadata": {
        "id": "-pXF-jHJs6Qr"
      },
      "outputs": [],
      "source": [
        "import numpy as np\n",
        "import matplotlib.pyplot as plt\n",
        "import random\n",
        "\n",
        "def compute_x_y(params):\n",
        "    params['x_1'] = 1 / (1 + params['w'] * (1 - params['p_1']))\n",
        "    params['y_1'] = 1 / (1 + params['w'])\n",
        "\n",
        "def compute_lambda(params):\n",
        "    params['lambda^_*'] = ((1 + params['w']) - 1/params['delta']) / params['p_1'] / params['w']\n",
        "\n",
        "def compute_eta(params):\n",
        "    params['eta^*'] = params['C_cyb'] / params['p_1'] / params['beta']"
      ]
    },
    {
      "cell_type": "markdown",
      "metadata": {
        "id": "lWcCZaDRDaMk"
      },
      "source": [
        "## $\\lambda^*$ as a function of $\\delta$ with different values of $p_1$"
      ]
    },
    {
      "cell_type": "code",
      "execution_count": null,
      "metadata": {
        "id": "Vn2exnEk-Ws6"
      },
      "outputs": [],
      "source": [
        "def plot_lambda_vs_delta():\n",
        "    # Define values of p1 and markers for plotting\n",
        "    p1_values = [0.7, 0.8, 0.9]\n",
        "    markers = ['o', 's', '^']  # Circle, square, and triangle markers\n",
        "\n",
        "    # Create a figure and axis for the plot\n",
        "    fig, ax = plt.subplots()\n",
        "    ax.set_title('$\\lambda^*$ as a function of $\\delta$ with different values of $p_1$')\n",
        "\n",
        "    # Initialize parameters with random values within a range\n",
        "    params = {\n",
        "        'w': random.uniform(0.001, 0.999),\n",
        "        'beta': random.uniform(0.001, 0.999),\n",
        "        'C_cyb': random.uniform(0.001, 0.999)\n",
        "    }\n",
        "\n",
        "    for i, p_1 in enumerate(p1_values):\n",
        "        # Set p1 value\n",
        "        params['p_1'] = p_1\n",
        "\n",
        "        # Ensure beta and C_cyb satisfy a condition\n",
        "        while params['beta'] <= params['C_cyb'] / params['p_1']:\n",
        "            params['beta'] = random.uniform(0.001, 0.999)\n",
        "            params['C_cyb'] = random.uniform(0.001, 0.999)\n",
        "\n",
        "        # Set a random p2 value within a range\n",
        "        params['p_2'] = random.uniform(0.001, params['p_1'] - 0.001)\n",
        "\n",
        "        # Compute x and y values based on parameters\n",
        "        compute_x_y(params)\n",
        "\n",
        "        # Generate a range of delta values\n",
        "        delta_range = np.linspace(params['y_1'] + 0.001, params['x_1'] - 0.001, 100)\n",
        "        lambda_values = []\n",
        "\n",
        "        # Calculate lambda values for each delta in the range\n",
        "        for delta in delta_range:\n",
        "            params['delta'] = delta\n",
        "            compute_lambda(params)\n",
        "            lambda_values.append(params['lambda^_*'])\n",
        "\n",
        "        # Plot lambda values with a label and marker\n",
        "        ax.plot(delta_range, lambda_values, label=f\"$p_1$={p_1:.2f}\", marker=markers[i], markevery=10)\n",
        "\n",
        "    # Set labels and legend for the subplot\n",
        "    ax.set_xlabel('Probability that an insider is malicious ($\\delta$)')\n",
        "    ax.set_ylabel('$\\lambda^*$')\n",
        "    ax.legend()\n",
        "\n",
        "    # Show the plot\n",
        "    plt.tight_layout()\n",
        "    plt.show()\n",
        "\n",
        "# Seed and call the plot function\n",
        "random.seed(0)\n",
        "plot_lambda_vs_delta()"
      ]
    },
    {
      "cell_type": "markdown",
      "source": [
        "## $\\lambda^*$ as a function of $\\beta$ with different values of $C_{cyb}$"
      ],
      "metadata": {
        "id": "jls5E_jJRjoa"
      }
    },
    {
      "cell_type": "code",
      "execution_count": null,
      "metadata": {
        "id": "iwfKMw1bPNfc"
      },
      "outputs": [],
      "source": [
        "def plot_eta_vs_beta():\n",
        "    # Define the fixed p1 value and markers for plotting\n",
        "    p1_values = 0.7\n",
        "    markers = ['o', 's', '^']  # Circle, square, and triangle markers\n",
        "\n",
        "    # Create a figure and axis for the plot\n",
        "    fig, ax = plt.subplots()\n",
        "    ax.set_title('$\\eta^*$ as a function of $\\\\beta$ with different values of $C_{cyb}$ ($p_1$ = 0.7)')\n",
        "\n",
        "    # Initialize parameters with random values within a range\n",
        "    params = {\n",
        "        'w': random.uniform(0.001, 0.999),\n",
        "        'p_1': p1_values\n",
        "    }\n",
        "\n",
        "    C_cybs = [0.2, 0.3, 0.4]\n",
        "    for i, c_i in enumerate(C_cybs):\n",
        "        # Set C_cyb value\n",
        "        params['C_cyb'] = c_i\n",
        "\n",
        "        # Generate a range of beta values\n",
        "        beta_ranges = np.linspace(params['C_cyb'] / params['p_1'], 0.999, 100)\n",
        "\n",
        "        # Set a random p2 value within a range\n",
        "        params['p_2'] = random.uniform(0.001, params['p_1'] - 0.001)\n",
        "\n",
        "        # Compute x and y values based on parameters\n",
        "        compute_x_y(params)\n",
        "\n",
        "        # Set a random delta value within a range\n",
        "        params[\"delta\"] = random.uniform(0.001, 0.999)\n",
        "\n",
        "        eta_values = []\n",
        "\n",
        "        # Calculate eta values for each beta in the range\n",
        "        for b in beta_ranges:\n",
        "            params[\"beta\"] = b\n",
        "            compute_eta(params)\n",
        "            eta_values.append(params['eta^*'])\n",
        "\n",
        "        # Plot eta values with a label and marker\n",
        "        ax.plot(beta_ranges, eta_values, label=f'$C_{{cyb}}$={c_i:.2f}', marker=markers[i], markevery=10)\n",
        "\n",
        "    ax.set_xlabel('$\\\\beta$')\n",
        "    ax.set_ylabel('$\\eta^*$')\n",
        "    ax.legend()\n",
        "\n",
        "    # Show the plot\n",
        "    plt.tight_layout()\n",
        "    plt.show()\n",
        "\n",
        "# Seed and call the plot function\n",
        "random.seed(0)\n",
        "plot_eta_vs_beta()"
      ]
    },
    {
      "cell_type": "markdown",
      "metadata": {
        "id": "rverIBnvE1ue"
      },
      "source": [
        "## $\\eta^*$ as a function of $C_{cyb}$ with different values of $p_1$"
      ]
    },
    {
      "cell_type": "code",
      "execution_count": null,
      "metadata": {
        "id": "26d2HL-QFI96"
      },
      "outputs": [],
      "source": [
        "def plot_eta_vs_C_cyb_with_p2():\n",
        "    # Define sample p1 values and markers for plotting\n",
        "    p1_values = [0.2, 0.4, 0.6]\n",
        "    markers = ['o', 's', '^']  # Circle, square, and triangle markers\n",
        "\n",
        "    # Create a figure and axis for the plot\n",
        "    fig, ax = plt.subplots()\n",
        "    ax.set_title('$\\eta^*$ as a function of $C_{cyb}$ with different values of $p_1$')\n",
        "\n",
        "    # Initialize parameters with random values within a range\n",
        "    params = {\n",
        "        'w': random.uniform(0.001, 0.999),\n",
        "        'beta': random.uniform(0.001, 0.999)\n",
        "    }\n",
        "\n",
        "    C_cyb_range = np.linspace(0.001, 0.999, 200)\n",
        "\n",
        "    for i, p_1 in enumerate(p1_values):\n",
        "        # Set p1 value\n",
        "        params['p_1'] = p_1\n",
        "\n",
        "        # Compute x and y values based on parameters\n",
        "        compute_x_y(params)\n",
        "\n",
        "        # Set a random delta value within a range\n",
        "        params['delta'] = random.uniform(params['y_1'] + 0.001, params['x_1'] - 0.001)\n",
        "\n",
        "        eta_values = []\n",
        "\n",
        "        for C_cyb in C_cyb_range:\n",
        "            params['C_cyb'] = C_cyb\n",
        "            if params['beta'] > params['C_cyb'] / params['p_1']:\n",
        "                compute_lambda(params)\n",
        "                compute_eta(params)\n",
        "                eta_values.append(params['eta^*'])\n",
        "            else:\n",
        "                eta_values.append(np.nan)  # Appending NaN for continuity\n",
        "\n",
        "        # Plot eta values with a label and marker\n",
        "        ax.plot(C_cyb_range, eta_values, label=f\"$p_1$={p_1:.2f}\", marker=markers[i], markevery=10)\n",
        "\n",
        "    # Set labels and legend for the subplot\n",
        "    ax.set_xlabel('Cost of cyber attack $(C_{cyb})$')\n",
        "    ax.set_ylabel('$\\eta^*$')\n",
        "    ax.legend()\n",
        "\n",
        "    # Show the plot\n",
        "    plt.tight_layout()\n",
        "    plt.show()\n",
        "\n",
        "# Seed and call the plot function\n",
        "random.seed(0)\n",
        "params = {}\n",
        "plot_eta_vs_C_cyb_with_p2()"
      ]
    },
    {
      "cell_type": "markdown",
      "metadata": {
        "id": "5AkJr1HqEBIa"
      },
      "source": [
        "## Figure 5: $\\lambda^*$ as a function of $\\delta$ with different values of $p_1$"
      ]
    },
    {
      "cell_type": "code",
      "execution_count": null,
      "metadata": {
        "colab": {
          "base_uri": "https://localhost:8080/",
          "height": 487
        },
        "id": "f_0fIrXaD5tN",
        "outputId": "bc288968-8025-446e-9a54-d8514968e4b4"
      },
      "outputs": [
        {
          "output_type": "display_data",
          "data": {
            "text/plain": [
              "<Figure size 640x480 with 1 Axes>"
            ],
            "image/png": "[encoded data removed]"
          },
          "metadata": {}
        }
      ],
      "source": [
        "def plot_lambda_vs_delta():\n",
        "    # Define sample p1 values and markers for plotting\n",
        "    p1_values = [0.2, 0.4, 0.6]\n",
        "    markers = ['o', 's', '^']  # Circle, square, and triangle markers\n",
        "\n",
        "    # Create a figure and axis for the plot\n",
        "    fig, ax = plt.subplots()\n",
        "    ax.set_title('$\\lambda^*$ as a function of $\\delta$ with different values of $p_1$')\n",
        "\n",
        "    # Initialize parameters with random values within a range\n",
        "    params = {\n",
        "        'w': random.uniform(0.001, 0.999),\n",
        "        'beta': random.uniform(0.001, 0.999),\n",
        "        'C_cyb': random.uniform(0.001, 0.999)\n",
        "    }\n",
        "\n",
        "    for i, p_1 in enumerate(p1_values):\n",
        "        # Set p1 value\n",
        "        params['p_1'] = p_1\n",
        "\n",
        "        # Ensure beta and C_cyb satisfy a condition\n",
        "        while params['beta'] <= params['C_cyb'] / params['p_1']:\n",
        "            params['beta'] = random.uniform(0.001, 0.999)\n",
        "            params['C_cyb'] = random.uniform(0.001, 0.999)\n",
        "\n",
        "        # Compute x and y values based on parameters\n",
        "        compute_x_y(params)\n",
        "\n",
        "        # Generate a range of delta values\n",
        "        delta_range = np.linspace(params['y_1'] + 0.001, params['x_1'] - 0.001, 100)\n",
        "        lambda_values = []\n",
        "\n",
        "        # Calculate lambda values for each delta in the range\n",
        "        for delta in delta_range:\n",
        "            params['delta'] = delta\n",
        "            compute_lambda(params)\n",
        "            lambda_values.append(params['lambda^_*'])\n",
        "\n",
        "        # Plot lambda values with a label and marker\n",
        "        ax.plot(delta_range, lambda_values, label=f\"$p_1$={p_1:.2f}\", marker=markers[i], markevery=10)\n",
        "\n",
        "    # Set labels and legend for the subplot\n",
        "    ax.set_xlabel('Probability that an insider is malicious ($\\delta$)')\n",
        "    ax.set_ylabel('$\\lambda^*$')\n",
        "    ax.legend()\n",
        "\n",
        "    # Show the plot\n",
        "    plt.tight_layout()\n",
        "    plt.show()\n",
        "\n",
        "# Seed and call the plot function\n",
        "random.seed(0)\n",
        "plot_lambda_vs_delta()\n"
      ]
    },
    {
      "cell_type": "markdown",
      "metadata": {
        "id": "iIWXb8gGDi2T"
      },
      "source": [
        "##Figure 6: 1-$\\lambda^*$ as a function of $\\delta$ with different values of $p_1$"
      ]
    },
    {
      "cell_type": "code",
      "execution_count": null,
      "metadata": {
        "colab": {
          "base_uri": "https://localhost:8080/",
          "height": 487
        },
        "id": "8vmmzWHt_1Am",
        "outputId": "694df18d-c169-4c07-c465-f4b5d89d2005"
      },
      "outputs": [
        {
          "output_type": "display_data",
          "data": {
            "text/plain": [
              "<Figure size 640x480 with 1 Axes>"
            ],
            "image/png": "[encoded data removed]"
          },
          "metadata": {}
        }
      ],
      "source": [
        "def plot_one_minus_lambda_vs_delta():\n",
        "    # Define sample p1 values and markers for plotting\n",
        "    p1_values = [0.4, 0.6, 0.8]\n",
        "    markers = ['o', 's', '^']  # Circle, square, and triangle markers\n",
        "\n",
        "    # Create a figure and axis for the plot\n",
        "    fig, ax = plt.subplots()\n",
        "    ax.set_title('$1-\\lambda^*$ as a function of $\\delta$ with different values of $p_1$')\n",
        "\n",
        "    # Initialize parameters with random values within a range\n",
        "    params = {\n",
        "        'w': random.uniform(0.001, 0.999),\n",
        "        'beta': random.uniform(0.001, 0.999),\n",
        "        'C_cyb': random.uniform(0.001, 0.999)\n",
        "    }\n",
        "\n",
        "    for i, p_1 in enumerate(p1_values):\n",
        "        # Set p1 value\n",
        "        params['p_1'] = p_1\n",
        "\n",
        "        # Ensure beta and C_cyb satisfy a condition\n",
        "        while params['beta'] <= params['C_cyb'] / params['p_1']:\n",
        "            params['beta'] = random.uniform(0.001, 0.999)\n",
        "            params['C_cyb'] = random.uniform(0.001, 0.999)\n",
        "\n",
        "        # Compute x and y values based on parameters\n",
        "        compute_x_y(params)\n",
        "\n",
        "        # Generate a range of delta values\n",
        "        delta_range = np.linspace(params['y_1'] + 0.001, params['x_1'] - 0.001, 100)\n",
        "        one_minus_lambda_values = []\n",
        "\n",
        "        # Calculate 1 - lambda values for each delta in the range\n",
        "        for delta in delta_range:\n",
        "            params['delta'] = delta\n",
        "            compute_lambda(params)\n",
        "            one_minus_lambda_values.append(1 - params['lambda^_*'])\n",
        "\n",
        "        # Plot 1 - lambda values with a label and marker\n",
        "        ax.plot(delta_range, one_minus_lambda_values, label=f\"$p_1$={p_1:.2f}\", marker=markers[i], markevery=10)\n",
        "\n",
        "    # Set labels and legend for the subplot\n",
        "    ax.set_xlabel('Probability that an insider is malicious ($\\delta$)')\n",
        "    ax.set_ylabel('$1-\\lambda^*$')\n",
        "    ax.legend()\n",
        "\n",
        "    # Show the plot\n",
        "    plt.tight_layout()\n",
        "    plt.show()\n",
        "\n",
        "# Seed and call the plot function\n",
        "random.seed(0)\n",
        "params = {}\n",
        "plot_one_minus_lambda_vs_delta()\n"
      ]
    },
    {
      "cell_type": "markdown",
      "metadata": {
        "id": "3man_ibsDndg"
      },
      "source": [
        "##Figure 7: $\\eta^*$ as a function of $C_{cyb}$ with different values of $p_1$"
      ]
    },
    {
      "cell_type": "code",
      "execution_count": null,
      "metadata": {
        "colab": {
          "base_uri": "https://localhost:8080/",
          "height": 487
        },
        "id": "_mTp_oBp6eug",
        "outputId": "863cb8e5-7755-43ee-cc00-a9a52734c928"
      },
      "outputs": [
        {
          "output_type": "display_data",
          "data": {
            "text/plain": [
              "<Figure size 640x480 with 1 Axes>"
            ],
            "image/png": "[encoded data removed]"
          },
          "metadata": {}
        }
      ],
      "source": [
        "def plot_eta_vs_C_cyb():\n",
        "    # Define sample p1 values and markers for plotting\n",
        "    p1_values = [0.4, 0.6, 0.8]\n",
        "    markers = ['o', 's', '^']  # Circle, square, and triangle markers\n",
        "\n",
        "    # Create a figure and axis for the plot\n",
        "    fig, ax = plt.subplots()\n",
        "    ax.set_title('$\\eta^*$ as a function of $C_{cyb}$ with different values of $p_1$')\n",
        "\n",
        "    # Initialize parameters with random values within a range\n",
        "    params = {\n",
        "        'w': random.uniform(0.001, 0.999),\n",
        "        'beta': random.uniform(0.001, 0.999)\n",
        "    }\n",
        "\n",
        "    C_cyb_range = np.linspace(0.001, 0.999, 200)\n",
        "\n",
        "    for i, p_1 in enumerate(p1_values):\n",
        "        # Set p1 value\n",
        "        params['p_1'] = p_1\n",
        "\n",
        "        # Set a random p2 value within a range\n",
        "        params['p_2'] = random.uniform(0.001, params['p_1'] - 0.001)\n",
        "\n",
        "        # Compute x and y values based on parameters\n",
        "        compute_x_y(params)\n",
        "        # Set a random delta value within a range\n",
        "        params['delta'] = random.uniform(params['y_1'] + 0.001, params['x_1'] - 0.001)\n",
        "\n",
        "        eta_values = []\n",
        "\n",
        "        for C_cyb in C_cyb_range:\n",
        "            params['C_cyb'] = C_cyb\n",
        "            if params['beta'] > params['C_cyb'] / params['p_1']:\n",
        "                compute_lambda(params)\n",
        "                compute_eta(params)\n",
        "                eta_values.append(params['eta^*'])\n",
        "            else:\n",
        "                eta_values.append(np.nan)  # Appending NaN so the lengths match\n",
        "\n",
        "        # Plot eta values with a label and marker\n",
        "        ax.plot(C_cyb_range, eta_values, label=f\"$p_1$={p_1:.2f}\", marker=markers[i], markevery=10)\n",
        "\n",
        "    # Set labels and legend for the subplot\n",
        "    ax.set_xlabel('Cost of cyber attack $(C_{cyb})$')\n",
        "    ax.set_ylabel('$\\eta^*$')\n",
        "    ax.legend()\n",
        "\n",
        "    # Show the plot\n",
        "    plt.tight_layout()\n",
        "    plt.show()\n",
        "\n",
        "# Seed and call the plot function\n",
        "random.seed(0)\n",
        "params = {}\n",
        "plot_eta_vs_C_cyb()\n"
      ]
    },
    {
      "cell_type": "markdown",
      "metadata": {
        "id": "PtbzxLpqDv09"
      },
      "source": [
        "##Figure 8: 1-$\\eta^*$ as a function of $C_{cyb}$ with different values of $p_2$"
      ]
    },
    {
      "cell_type": "code",
      "execution_count": null,
      "metadata": {
        "colab": {
          "base_uri": "https://localhost:8080/",
          "height": 487
        },
        "id": "y6MLHd_XBdY6",
        "outputId": "5134f1de-a333-4b4d-e630-81b3100a9161"
      },
      "outputs": [
        {
          "output_type": "display_data",
          "data": {
            "text/plain": [
              "<Figure size 640x480 with 1 Axes>"
            ],
            "image/png": "[encoded data removed]"
          },
          "metadata": {}
        }
      ],
      "source": [
        "def plot_one_minus_eta_vs_C_cyb():\n",
        "    # Define sample p1 values and markers for plotting\n",
        "    p1_values = [0.3, 0.5, 0.7]\n",
        "    markers = ['o', 's', '^']  # Circle, square, and triangle markers\n",
        "\n",
        "    # Create a figure and axis for the plot\n",
        "    fig, ax = plt.subplots()\n",
        "    ax.set_title('$1-\\eta^*$ as a function of $C_{cyb}$ with different values of $p_1$')\n",
        "\n",
        "    # Initialize parameters with random values within a range\n",
        "    params = {\n",
        "        'w': random.uniform(0.001, 0.999),\n",
        "        'beta': random.uniform(0.001, 0.999)\n",
        "    }\n",
        "\n",
        "    C_cyb_range = np.linspace(0.001, 0.999, 100)\n",
        "\n",
        "    for i, p_1 in enumerate(p1_values):\n",
        "        # Set p1 value\n",
        "        params['p_1'] = p_1\n",
        "\n",
        "        # Compute x and y values based on parameters\n",
        "        compute_x_y(params)\n",
        "\n",
        "        # Set a random delta value within a range\n",
        "        params['delta'] = random.uniform(params['y_1'] + 0.001, params['x_1'] - 0.001)\n",
        "\n",
        "        one_minus_eta_values = []\n",
        "\n",
        "        for C_cyb in C_cyb_range:\n",
        "            params['C_cyb'] = C_cyb\n",
        "            if params['beta'] > params['C_cyb'] / params['p_1']:\n",
        "                compute_lambda(params)\n",
        "                compute_eta(params)\n",
        "                one_minus_eta_values.append(1 - params['eta^*'])\n",
        "            else:\n",
        "                one_minus_eta_values.append(np.nan)  # Appending NaN for continuity\n",
        "\n",
        "        # Plot 1 - eta values with a label and marker\n",
        "        ax.plot(C_cyb_range, one_minus_eta_values, label=f\"$p_1$={p_1:.2f}\", marker=markers[i], markevery=10)\n",
        "\n",
        "    # Set labels and legend for the subplot\n",
        "    ax.set_xlabel('Cost of cyber attack $(C_{cyb})$')\n",
        "    ax.set_ylabel('$1-\\eta^*$')\n",
        "    ax.legend()\n",
        "\n",
        "    # Show the plot\n",
        "    plt.tight_layout()\n",
        "    plt.show()\n",
        "\n",
        "# Seed and call the plot function\n",
        "random.seed(0)\n",
        "params = {}\n",
        "plot_one_minus_eta_vs_C_cyb()"
      ]
    },
    {
      "cell_type": "markdown",
      "metadata": {
        "id": "AGiS483iJxgA"
      },
      "source": [
        "# Proposition 2"
      ]
    },
    {
      "cell_type": "code",
      "execution_count": null,
      "metadata": {
        "id": "1EAoo8igC7B_"
      },
      "outputs": [],
      "source": [
        "import numpy as np\n",
        "import matplotlib.pyplot as plt\n",
        "import random\n",
        "\n",
        "\n",
        "def compute_x_y(params):\n",
        "    params['x^*'] = 1 / (1 + params['w'] * (1 - 2*params['p_1']))\n",
        "    params['y^*'] = 1 / (1 + params['w'] * (1 - 2*params['p_2']))\n",
        "\n",
        "def compute_lambda(params):\n",
        "    numerator = 1 + params['w'] * (1 - 2 * params['p_2']) - 1 / params['delta']\n",
        "    denominator = 2 * params['w'] * (params['p_1'] - params['p_2'])\n",
        "    params['lambda_1^_*'] = numerator / denominator\n",
        "\n",
        "def compute_eta(params):\n",
        "    params['eta_1^*'] = params['C_cyb'] / (2*params['beta']*(params['p_1']-params['p_2']))"
      ]
    },
    {
      "cell_type": "markdown",
      "metadata": {
        "id": "684aHBjmMD6j"
      },
      "source": [
        "## $\\lambda_1^*$ as a function of $\\delta$ with different values of $p_1$"
      ]
    },
    {
      "cell_type": "code",
      "execution_count": null,
      "metadata": {
        "id": "XI72COZvLVV3"
      },
      "outputs": [],
      "source": [
        "def plot_lambda_vs_delta():\n",
        "    p1_values = [0.3, 0.4, 0.5]\n",
        "    markers = ['o', 's', '^']  # Circle, square, and triangle markers\n",
        "    fig, ax = plt.subplots()\n",
        "    ax.set_title(r'$\\lambda^*_1$ as a function of $\\delta$ with different values of $p_1$')\n",
        "    params['w'] = random.uniform(0.001, 0.999)\n",
        "    params['beta'] = random.uniform(0.001, 0.999)\n",
        "    params['C_cyb'] = random.uniform(0.001, 0.999)\n",
        "\n",
        "    for i, p_1 in enumerate(p1_values):\n",
        "        params['p_1'] = p_1\n",
        "        params['p_2'] = random.uniform(0.001, params['p_1']-0.001)\n",
        "        while params['beta']<=params['C_cyb']/2/(params['p_1']-params['p_2']):\n",
        "              params['beta'] = random.uniform(0.001, 0.999)\n",
        "              params['C_cyb'] = random.uniform(0.001, 0.999)\n",
        "\n",
        "        compute_x_y(params)\n",
        "        delta_range = np.linspace(params['y^*'] + 0.001, params['x^*'] - 0.001, 150)\n",
        "        lambda_values = []\n",
        "\n",
        "        for delta in delta_range:\n",
        "            params['delta'] = delta\n",
        "            compute_lambda(params)\n",
        "            lambda_values.append(params['lambda_1^_*'])\n",
        "\n",
        "        ax.plot(delta_range, lambda_values, label=f\"$p_1$={p_1:.2f}\", marker=markers[i], markevery=10)\n",
        "    # Set labels and legend for the subplot\n",
        "    ax.set_xlabel('Probability that an insider is malicious ($\\delta$)')\n",
        "    ax.set_ylabel(r'$\\lambda^*_1$')\n",
        "\n",
        "    ax.legend()\n",
        "\n",
        "    # Show the plot\n",
        "    plt.tight_layout()\n",
        "    plt.show()\n",
        "\n",
        "# Seed and call the plot function\n",
        "random.seed(0)\n",
        "params = {}\n",
        "plot_lambda_vs_delta()"
      ]
    },
    {
      "cell_type": "markdown",
      "source": [
        "## $\\lambda_1^*$ as a function of $p_1$ with different values of $\\delta$"
      ],
      "metadata": {
        "id": "ZLtgGgS_Ssoe"
      }
    },
    {
      "cell_type": "code",
      "execution_count": null,
      "metadata": {
        "id": "Yu0QvpWVPNff"
      },
      "outputs": [],
      "source": [
        "def plot_lambda_vs_p1():\n",
        "    # Define delta values and markers for plotting\n",
        "    delta_values = [0.6, 0.7, 0.8]\n",
        "    markers = ['o', 's', '^']  # Circle, square, and triangle markers\n",
        "\n",
        "    # Create a figure and axis for the plot\n",
        "    fig, ax = plt.subplots()\n",
        "    ax.set_title('$\\lambda^*_1$ as a function of $p1$ with different values of $\\delta$')\n",
        "\n",
        "    p1_start = 0.5\n",
        "    p1_values = np.linspace(p1_start, 0.999, 100)\n",
        "\n",
        "    # Initialize parameters with random values within a range\n",
        "    params = {\n",
        "        'w': 0.9,\n",
        "        'C_cyb': random.uniform(0.001, 0.999),\n",
        "        'p_2': 0.001\n",
        "    }\n",
        "\n",
        "    for i, delta_ in enumerate(delta_values):\n",
        "        lambda_values = []\n",
        "        params['delta'] = delta_\n",
        "\n",
        "        for p_1 in p1_values:\n",
        "            params['p_1'] = p_1\n",
        "\n",
        "            # Set beta within a range based on conditions\n",
        "            params['beta'] = random.uniform(params['C_cyb'] / 2 / (params['p_1'] - params['p_2']), 0.999)\n",
        "\n",
        "            compute_x_y(params)\n",
        "\n",
        "            if not (params['y^*'] < params['delta'] < params['x^*']):\n",
        "                print(\"WARN\")\n",
        "\n",
        "            compute_lambda(params)\n",
        "            lambda_values.append(params['lambda_1^_*'])\n",
        "\n",
        "        ax.plot(p1_values, lambda_values, label=f\"$\\\\delta$={delta_:.2f}\", marker=markers[i], markevery=10)\n",
        "\n",
        "    # Set labels and legend for the subplot\n",
        "    ax.set_xlabel('Probability that the malicious insider with proper authentication is detected ($p_1$)')\n",
        "    ax.set_ylabel('$\\lambda^*_1$')\n",
        "    ax.legend()\n",
        "\n",
        "    # Show the plot\n",
        "    plt.tight_layout()\n",
        "    plt.show()\n",
        "\n",
        "# Seed and call the plot function\n",
        "random.seed(0)\n",
        "params = {}\n",
        "plot_lambda_vs_p1()\n"
      ]
    },
    {
      "cell_type": "markdown",
      "source": [
        "## $\\lambda_1^*$ as a function of $\\delta$ with different values of $p_1$"
      ],
      "metadata": {
        "id": "wyHTiB9e916j"
      }
    },
    {
      "cell_type": "code",
      "execution_count": null,
      "metadata": {
        "id": "qiDUkh-oPNfg"
      },
      "outputs": [],
      "source": [
        "def plot_lambda_vs_delta():\n",
        "    p1_values = [0.3, 0.4, 0.5]\n",
        "    markers = ['o', 's', '^']  # Circle, square, and triangle markers\n",
        "    fig, ax = plt.subplots()\n",
        "    ax.set_title('$\\lambda^*_1$ as a function of $\\delta$ with different values of $p_1$')\n",
        "\n",
        "    params['w'] = random.uniform(0.001, 0.999)\n",
        "    params['beta'] = random.uniform(0.001, 0.999)\n",
        "    params['C_cyb'] = random.uniform(0.001, 0.999)\n",
        "\n",
        "    for i, p_1 in enumerate(p1_values):\n",
        "        params['p_1'] = p_1\n",
        "        params['p_2'] = random.uniform(0.001, params['p_1']-0.001)\n",
        "        while params['beta']<=params['C_cyb']/2/(params['p_1']-params['p_2']):\n",
        "              params['beta'] = random.uniform(0.001, 0.999)\n",
        "              params['C_cyb'] = random.uniform(0.001, 0.999)\n",
        "\n",
        "        compute_x_y(params)\n",
        "        delta_range = np.linspace(params['y^*'] + 0.001, params['x^*'] - 0.001, 150)\n",
        "        lambda_values = []\n",
        "\n",
        "        for delta in delta_range:\n",
        "            params['delta'] = delta\n",
        "            compute_lambda(params)\n",
        "            lambda_values.append(params['lambda_1^_*'])\n",
        "\n",
        "        ax.plot(delta_range, lambda_values, label=f\"$p_1$={p_1:.2f}\", marker=markers[i], markevery=10)\n",
        "\n",
        "    # Set labels and legend for the subplot\n",
        "    ax.set_xlabel('Probability that an insider is malicious ($\\delta$)')\n",
        "    ax.set_ylabel('$\\lambda^*_1$')\n",
        "    ax.legend()\n",
        "\n",
        "    # Show the plot\n",
        "    plt.tight_layout()\n",
        "    plt.show()\n",
        "\n",
        "# Seed and call the plot function\n",
        "random.seed(0)\n",
        "params = {}\n",
        "plot_lambda_vs_delta()"
      ]
    },
    {
      "cell_type": "markdown",
      "metadata": {
        "id": "sSKHWCimPIJn"
      },
      "source": [
        "## $\\lambda_1^*$ as a function of $\\delta$ with different values of $p_2$"
      ]
    },
    {
      "cell_type": "code",
      "execution_count": null,
      "metadata": {
        "id": "uBkq9RouMKMW"
      },
      "outputs": [],
      "source": [
        "def plot_lambda_vs_delta():\n",
        "    # Define p2 values and markers for plotting\n",
        "    p2_values = [0.2, 0.4, 0.6]\n",
        "    markers = ['o', 's', '^']  # Circle, square, and triangle markers\n",
        "\n",
        "    # Create a figure and axis for the plot\n",
        "    fig, ax = plt.subplots()\n",
        "    ax.set_title('$\\lambda^*_1$ as a function of $\\delta$ with different values of $p_2$')\n",
        "\n",
        "    # Initialize parameters with random values within a range\n",
        "    params = {\n",
        "        'w': random.uniform(0.001, 0.999),\n",
        "        'beta': random.uniform(0.001, 0.999),\n",
        "        'C_cyb': random.uniform(0.001, 0.999),\n",
        "        'p_1': 0.8\n",
        "    }\n",
        "\n",
        "    for i, p_2 in enumerate(p2_values):\n",
        "        params['p_2'] = p_2\n",
        "\n",
        "        # Ensure beta and C_cyb satisfy a condition\n",
        "        while params['beta'] <= params['C_cyb'] / 2 / (params['p_1'] - params['p_2']):\n",
        "            params['beta'] = random.uniform(0.001, 0.999)\n",
        "            params['C_cyb'] = random.uniform(0.001, 0.999)\n",
        "\n",
        "        compute_x_y(params)\n",
        "\n",
        "        delta_range = np.linspace(params['y^*'] + 0.001, params['x^*'] - 0.001, 100)\n",
        "        lambda_values = []\n",
        "\n",
        "        for delta in delta_range:\n",
        "            params['delta'] = delta\n",
        "            compute_lambda(params)\n",
        "            lambda_values.append(params['lambda_1^_*'])\n",
        "\n",
        "        ax.plot(delta_range, lambda_values, label=f\"$p_2$={p_2:.2f}\", marker=markers[i], markevery=10)\n",
        "\n",
        "    # Set labels and legend for the subplot\n",
        "    ax.set_xlabel('Probability that an insider is malicious ($\\delta$)')\n",
        "    ax.set_ylabel('$\\lambda^*_1$')\n",
        "    ax.legend()\n",
        "\n",
        "    # Show the plot\n",
        "    plt.tight_layout()\n",
        "    plt.show()\n",
        "\n",
        "# Seed and call the plot function\n",
        "random.seed(0)\n",
        "params = {}\n",
        "plot_lambda_vs_delta()"
      ]
    },
    {
      "cell_type": "markdown",
      "metadata": {
        "id": "186zlNjvPzXt"
      },
      "source": [
        "## 1-$\\lambda_1^*$ as a function of $\\delta$ with different values of $p_2$"
      ]
    },
    {
      "cell_type": "code",
      "execution_count": null,
      "metadata": {
        "id": "uw8vjYmeOz_q"
      },
      "outputs": [],
      "source": [
        "\n",
        "def plot_one_minus_lambda_vs_delta():\n",
        "    # Define p2 values and markers for plotting\n",
        "    p2_values = [0.2, 0.4, 0.6]\n",
        "    markers = ['o', 's', '^']  # Circle, square, and triangle markers\n",
        "\n",
        "    # Create a figure and axis for the plot\n",
        "    fig, ax = plt.subplots()\n",
        "    ax.set_title('$1-\\lambda^*_1$ as a function of $\\delta$ with different values of $p_2$')\n",
        "\n",
        "    # Initialize parameters with random values within a range\n",
        "    params = {\n",
        "        'w': random.uniform(0.001, 0.999),\n",
        "        'beta': random.uniform(0.001, 0.999),\n",
        "        'C_cyb': random.uniform(0.001, 0.999),\n",
        "        'p_1': 0.8\n",
        "    }\n",
        "\n",
        "    for i, p_2 in enumerate(p2_values):\n",
        "        params['p_2'] = p_2\n",
        "\n",
        "        # Ensure beta and C_cyb satisfy a condition\n",
        "        while params['beta'] <= params['C_cyb'] / params['p_1']:\n",
        "            params['beta'] = random.uniform(0.001, 0.999)\n",
        "            params['C_cyb'] = random.uniform(0.001, 0.999)\n",
        "\n",
        "        compute_x_y(params)\n",
        "\n",
        "        delta_range = np.linspace(params['y^*'] + 0.001, params['x^*'] - 0.001, 100)\n",
        "        one_minus_lambda_values = []\n",
        "\n",
        "        for delta in delta_range:\n",
        "            params['delta'] = delta\n",
        "            compute_lambda(params)\n",
        "            one_minus_lambda_values.append(1 - params['lambda_1^_*'])\n",
        "\n",
        "        ax.plot(delta_range, one_minus_lambda_values, label=f\"$p_2$={p_2:.2f}\", marker=markers[i], markevery=10)\n",
        "\n",
        "    # Set labels and legend for the subplot\n",
        "    ax.set_xlabel('Probability that an insider is malicious ($\\delta$)')\n",
        "    ax.set_ylabel('$1-\\lambda^*_1$')\n",
        "    ax.legend()\n",
        "\n",
        "    # Show the plot\n",
        "    plt.tight_layout()\n",
        "    plt.show()\n",
        "\n",
        "# Seed and call the plot function\n",
        "random.seed(0)\n",
        "params = {}\n",
        "plot_one_minus_lambda_vs_delta()\n"
      ]
    },
    {
      "cell_type": "markdown",
      "metadata": {
        "id": "LfofnHs9QbFa"
      },
      "source": [
        "## $\\eta_1^*$ as a function of $C_{cyb}$ with different values of $p_1$"
      ]
    },
    {
      "cell_type": "code",
      "execution_count": null,
      "metadata": {
        "id": "uVwySlRJPMsb"
      },
      "outputs": [],
      "source": [
        "def plot_eta_vs_C_cyb():\n",
        "    # Define p1 values and markers for plotting\n",
        "    p1_values = [0.3, 0.4, 0.5]\n",
        "    markers = ['o', 's', '^']  # Circle, square, and triangle markers\n",
        "\n",
        "    # Create a figure and axis for the plot\n",
        "    fig, ax = plt.subplots()\n",
        "    ax.set_title('$\\eta^*_1$ as a function of $C_{cyb}$ with different values of $p_1$')\n",
        "\n",
        "    # Initialize parameters with random values within a range\n",
        "    params = {\n",
        "        'w': random.uniform(0.001, 0.999),\n",
        "        'beta': random.uniform(0.001, 0.999)\n",
        "    }\n",
        "\n",
        "    C_cyb_range = np.linspace(0.001, 0.15, 150)\n",
        "\n",
        "    for i, p_1 in enumerate(p1_values):\n",
        "        params['p_1'] = p_1\n",
        "        params['p_2'] = random.uniform(0.001, params['p_1'] - 0.001)\n",
        "        compute_x_y(params)\n",
        "        params['delta'] = random.uniform(params['y^*'] + 0.001, params['x^*'] - 0.001)\n",
        "        eta_values = []\n",
        "\n",
        "        for C_cyb in C_cyb_range:\n",
        "            params['C_cyb'] = C_cyb\n",
        "            if params['beta'] > params['C_cyb'] / params['p_1']:\n",
        "                compute_lambda(params)\n",
        "                compute_eta(params)\n",
        "                eta_values.append(params['eta_1^*'])\n",
        "            else:\n",
        "                eta_values.append(np.nan)  # Appending NaN so the lengths match\n",
        "\n",
        "        ax.plot(C_cyb_range, eta_values, label=f\"$p_1$={p_1:.2f}\", marker=markers[i], markevery=10)\n",
        "\n",
        "    # Set labels and legend for the subplot\n",
        "    ax.set_xlabel('Cost of cyber attack $(C_{cyb})$')\n",
        "    ax.set_ylabel('$\\eta^*_1$')\n",
        "    ax.legend()\n",
        "\n",
        "    # Show the plot\n",
        "    plt.tight_layout()\n",
        "    plt.show()\n",
        "\n",
        "# Seed and call the plot function\n",
        "random.seed(0)\n",
        "params = {}\n",
        "plot_eta_vs_C_cyb()"
      ]
    },
    {
      "cell_type": "markdown",
      "source": [
        "## $\\eta_1^*$ as a function of $\\beta$ with different values of $C_{{cyb}}$"
      ],
      "metadata": {
        "id": "L1JWzWSfUn2P"
      }
    },
    {
      "cell_type": "code",
      "execution_count": null,
      "metadata": {
        "id": "7iiZr3f7PNfg"
      },
      "outputs": [],
      "source": [
        "\n",
        "def plot_eta_vs_beta_v2():\n",
        "    # Define C_cyb values and markers for plotting\n",
        "    C_cybs = [0.1, 0.14, 0.18]\n",
        "    markers = ['o', 's', '^']  # Circle, square, and triangle markers\n",
        "\n",
        "    # Create a figure and axis for the plot\n",
        "    fig, ax = plt.subplots()\n",
        "    ax.set_title('$\\eta^*_1$ as a function of $\\\\beta$ with different values of $C_{cyb}$')\n",
        "\n",
        "    # Initialize parameters with specific values and random values within a range\n",
        "    params = {\n",
        "        'p_2': 0.4,\n",
        "        'p_1': 0.6,\n",
        "        'w': random.uniform(0.001, 0.999)\n",
        "    }\n",
        "\n",
        "    for i, Ccyb in enumerate(C_cybs):\n",
        "        eta_values = []\n",
        "        params['C_cyb'] = Ccyb\n",
        "\n",
        "        # Generate beta values within a specific range\n",
        "        beta_ranges = np.linspace(params['C_cyb'] / 2 / (params['p_1'] - params['p_2']), 0.999, 150)\n",
        "\n",
        "        for b in beta_ranges:\n",
        "            params['beta'] = b\n",
        "            compute_x_y(params)\n",
        "            params['delta'] = random.uniform(params['y^*'] + 0.001, params['x^*'] - 0.001)\n",
        "            compute_eta(params)\n",
        "            eta_values.append(params['eta_1^*'])\n",
        "\n",
        "        ax.plot(beta_ranges, eta_values, label=f\"$C_{{cyb}}$={Ccyb:.2f}\", marker=markers[i], markevery=10)\n",
        "\n",
        "    # Set labels and legend for the subplot\n",
        "    ax.set_xlabel('$\\\\beta$')\n",
        "    ax.set_ylabel('$\\eta^*_1$')\n",
        "    ax.legend()\n",
        "\n",
        "    # Show the plot\n",
        "    plt.tight_layout()\n",
        "    plt.show()\n",
        "\n",
        "# Seed and call the plot function\n",
        "random.seed(0)\n",
        "params = {}\n",
        "plot_eta_vs_beta_v2()"
      ]
    },
    {
      "cell_type": "markdown",
      "metadata": {
        "id": "OwdG2aF0Qvqj"
      },
      "source": [
        "## $\\eta_1^*$ as a function of $C_{cyb}$ with different values of $p_2$"
      ]
    },
    {
      "cell_type": "markdown",
      "source": [
        "## 1-$\\eta_1^*$ as a function of $\\beta$ with different values of $C_{{cyb}}$"
      ],
      "metadata": {
        "id": "_5FkKIgjgfCd"
      }
    },
    {
      "cell_type": "code",
      "source": [
        "\n",
        "def plot_eta_vs_beta_v2():\n",
        "    # Define C_cyb values and markers for plotting\n",
        "    C_cybs = [0.1, 0.14, 0.18]\n",
        "    markers = ['o', 's', '^']  # Circle, square, and triangle markers\n",
        "\n",
        "    # Create a figure and axis for the plot\n",
        "    fig, ax = plt.subplots()\n",
        "    ax.set_title('1-$\\eta^*_1$ as a function of $\\\\beta$ with different values of $C_{cyb}$')\n",
        "\n",
        "    # Initialize parameters with specific values and random values within a range\n",
        "    params = {\n",
        "        'p_2': 0.4,\n",
        "        'p_1': 0.6,\n",
        "        'w': random.uniform(0.001, 0.999)\n",
        "    }\n",
        "\n",
        "    for i, Ccyb in enumerate(C_cybs):\n",
        "        eta_values = []\n",
        "        params['C_cyb'] = Ccyb\n",
        "\n",
        "        # Generate beta values within a specific range\n",
        "        beta_ranges = np.linspace(params['C_cyb'] / 2 / (params['p_1'] - params['p_2']), 0.999, 150)\n",
        "\n",
        "        for b in beta_ranges:\n",
        "            params['beta'] = b\n",
        "            compute_x_y(params)\n",
        "            params['delta'] = random.uniform(params['y^*'] + 0.001, params['x^*'] - 0.001)\n",
        "            compute_eta(params)\n",
        "            eta_values.append(1 - params['eta_1^*'])\n",
        "\n",
        "        ax.plot(beta_ranges, eta_values, label=f\"$C_{{cyb}}$={Ccyb:.2f}\", marker=markers[i], markevery=10)\n",
        "\n",
        "    # Set labels and legend for the subplot\n",
        "    ax.set_xlabel('$\\\\beta$')\n",
        "    ax.set_ylabel('1-$\\eta^*_1$')\n",
        "    ax.legend()\n",
        "\n",
        "    # Show the plot\n",
        "    plt.tight_layout()\n",
        "    plt.show()\n",
        "\n",
        "# Seed and call the plot function\n",
        "random.seed(0)\n",
        "params = {}\n",
        "plot_eta_vs_beta_v2()"
      ],
      "metadata": {
        "id": "miq7fcHGgeLS"
      },
      "execution_count": null,
      "outputs": []
    },
    {
      "cell_type": "code",
      "execution_count": null,
      "metadata": {
        "id": "W6HsVxhSP37A"
      },
      "outputs": [],
      "source": [
        "def plot_eta_vs_C_cyb_with_p2():\n",
        "    # Define p2 values and markers for plotting\n",
        "    p2_values = [0.1, 0.12, 0.14]\n",
        "    markers = ['o', 's', '^']  # Circle, square, and triangle markers\n",
        "\n",
        "    # Create a figure and axis for the plot\n",
        "    fig, ax = plt.subplots()\n",
        "    ax.set_title('$\\eta^*_1$ as a function of $C_{cyb}$ with different values of $p_2$')\n",
        "\n",
        "    # Initialize parameters with specific values and random values within a range\n",
        "    params = {\n",
        "        'w': random.uniform(0.001, 0.999),\n",
        "        'beta': random.uniform(0.001, 0.999)\n",
        "    }\n",
        "\n",
        "    C_cyb_range = np.linspace(0.001, 0.999, 200)\n",
        "\n",
        "    for i, p_2 in enumerate(p2_values):\n",
        "        params['p_2'] = p_2\n",
        "        params['p_1'] = random.uniform(params['p_2'] + 0.001, 0.999)\n",
        "        compute_x_y(params)\n",
        "        params['delta'] = random.uniform(params['y^*'] + 0.001, params['x^*'] - 0.001)\n",
        "        eta_values = []\n",
        "\n",
        "        for C_cyb in C_cyb_range:\n",
        "            params['C_cyb'] = C_cyb\n",
        "            if params['beta'] > params['C_cyb'] / params['p_1']:\n",
        "                compute_lambda(params)\n",
        "                compute_eta(params)\n",
        "                eta_values.append(params['eta_1^*'])\n",
        "            else:\n",
        "                eta_values.append(np.nan)  # Appending NaN for continuity\n",
        "\n",
        "        ax.plot(C_cyb_range, eta_values, label=f\"$p_2$={p_2:.2f}\", marker=markers[i], markevery=10)\n",
        "\n",
        "    # Set labels and legend for the subplot\n",
        "    ax.set_xlabel('Cost of cyber attack $(C_{cyb})$')\n",
        "    ax.set_ylabel('$\\eta^*_1$')\n",
        "    ax.legend()\n",
        "\n",
        "    # Show the plot\n",
        "    plt.tight_layout()\n",
        "    plt.show()\n",
        "\n",
        "# Seed and call the plot function\n",
        "random.seed(0)\n",
        "params = {}\n",
        "plot_eta_vs_C_cyb_with_p2()"
      ]
    },
    {
      "cell_type": "markdown",
      "metadata": {
        "id": "vvPH8O0_QzDv"
      },
      "source": [
        "## 1-$\\eta_1^*$ as a function of $C_{cyb}$ with different values of $p_2$"
      ]
    },
    {
      "cell_type": "code",
      "execution_count": null,
      "metadata": {
        "id": "-7TEpPHJQplT"
      },
      "outputs": [],
      "source": [
        "\n",
        "def plot_one_minus_eta_vs_C_cyb():\n",
        "    # Define p2 values and markers for plotting\n",
        "    p2_values = [0.1, 0.12, 0.14]\n",
        "    markers = ['o', 's', '^']  # Circle, square, and triangle markers\n",
        "\n",
        "    # Create a figure and axis for the plot\n",
        "    fig, ax = plt.subplots()\n",
        "    ax.set_title('$1-\\eta^*_1$ as a function of $C_{cyb}$ with different values of $p_2$')\n",
        "\n",
        "    # Initialize parameters with specific values and random values within a range\n",
        "    params = {\n",
        "        'w': random.uniform(0.001, 0.999),\n",
        "        'beta': random.uniform(0.001, 0.999)\n",
        "    }\n",
        "\n",
        "    C_cyb_range = np.linspace(0.001, 0.999, 150)\n",
        "\n",
        "    for i, p_2 in enumerate(p2_values):\n",
        "        params['p_2'] = p_2\n",
        "        params['p_1'] = random.uniform(params['p_2'] + 0.001, 0.999)\n",
        "        compute_x_y(params)\n",
        "        params['delta'] = random.uniform(params['y^*'] + 0.001, params['x^*'] - 0.001)\n",
        "        one_minus_eta_values = []\n",
        "\n",
        "        for C_cyb in C_cyb_range:\n",
        "            params['C_cyb'] = C_cyb\n",
        "            if params['beta'] > params['C_cyb'] / params['p_1']:\n",
        "                compute_lambda(params)\n",
        "                compute_eta(params)\n",
        "                one_minus_eta_values.append(1 - params['eta_1^*'])\n",
        "            else:\n",
        "                one_minus_eta_values.append(np.nan)  # Appending NaN for continuity\n",
        "\n",
        "        ax.plot(C_cyb_range, one_minus_eta_values, label=f\"$p_2$={p_2:.2f}\", marker=markers[i], markevery=10)\n",
        "\n",
        "    # Set labels and legend for the subplot\n",
        "    ax.set_xlabel('Cost of cyber attack $(C_{cyb})$')\n",
        "    ax.set_ylabel('$1-\\eta^*_1$')\n",
        "    ax.legend()\n",
        "\n",
        "    # Show the plot\n",
        "    plt.tight_layout()\n",
        "    plt.show()\n",
        "\n",
        "# Seed and call the plot function\n",
        "random.seed(0)\n",
        "params = {}\n",
        "plot_one_minus_eta_vs_C_cyb()"
      ]
    },
    {
      "cell_type": "markdown",
      "source": [
        "# Proposition 3 and 4"
      ],
      "metadata": {
        "id": "WmrzOv4DYeE-"
      }
    },
    {
      "cell_type": "code",
      "source": [
        "import numpy as np\n",
        "import matplotlib.pyplot as plt\n",
        "import random\n",
        "def determine_solution(params):\n",
        "    k1 = params['beta'] * (2 * params['p_1'] - 1); params['k1']=k1\n",
        "    k2 = 2 * params['beta'] * (params['p_1'] - params['p_2']);params['k2']=k2\n",
        "    k3 = params['beta'] * (1 - 2 * params['p_2']);params['k3']=k3\n",
        "    params['x^*'] = 1 / (1 + params['w'] * (1 - 2 * params['p_1']))\n",
        "\n",
        "    if params['p_2'] < 0.5:\n",
        "        if params['delta'] < params['x^*']:\n",
        "            if params['C_cyb'] > k1: return 'The solution is: '+'B'\n",
        "            else: return 'The solution is: '+'A'\n",
        "        else:\n",
        "            if params['C_cyb'] < k1: return 'No equilibria'\n",
        "            else: return 'The solution is: '+'C'\n",
        "    elif params['p_2'] > 0.5:\n",
        "        if params['delta'] < params['x^*']:\n",
        "            if params['C_cyb'] < k2: return 'The solution is: '+'D'\n",
        "            else: return 'The solution is: '+'E'\n",
        "        else: return \"No equilibria\"\n",
        "    return 'Unknown'  # Default, in case some combinations don't fall into the defined categories"
      ],
      "metadata": {
        "id": "V6FemzN9YVir"
      },
      "execution_count": 29,
      "outputs": []
    },
    {
      "cell_type": "code",
      "source": [
        "params = {}\n",
        "\n",
        "def get_input(parameter_name):\n",
        "    value = float(input(f\"Enter value for {parameter_name}: \"))\n",
        "    params[parameter_name] = value\n",
        "\n",
        "# Get values for all parameters\n",
        "get_input('beta')\n",
        "get_input('p_1')\n",
        "get_input('p_2')\n",
        "get_input('w')\n",
        "get_input('C_cyb')\n",
        "get_input('delta')\n",
        "\n",
        "# Assuming the determine_solution function is already defined elsewhere\n",
        "determine_solution(params)"
      ],
      "metadata": {
        "colab": {
          "base_uri": "https://localhost:8080/",
          "height": 142
        },
        "id": "gmlDBh2n4A2h",
        "outputId": "2a1092c0-24ae-42a8-fca5-7d30b73e1101"
      },
      "execution_count": 31,
      "outputs": [
        {
          "name": "stdout",
          "output_type": "stream",
          "text": [
            "Enter value for beta: 0.5\n",
            "Enter value for p_1: 0.55\n",
            "Enter value for p_2: 0.49\n",
            "Enter value for w: 0.68\n",
            "Enter value for C_cyb: 0\n",
            "Enter value for delta: 0.8\n"
          ]
        },
        {
          "output_type": "execute_result",
          "data": {
            "text/plain": [
              "'The solution is: A'"
            ],
            "application/vnd.google.colaboratory.intrinsic+json": {
              "type": "string"
            }
          },
          "metadata": {},
          "execution_count": 31
        }
      ]
    }
  ],
  "metadata": {
    "colab": {
      "provenance": [],
      "toc_visible": true
    },
    "kernelspec": {
      "display_name": "Python 3",
      "name": "python3"
    },
    "language_info": {
      "codemirror_mode": {
        "name": "ipython",
        "version": 3
      },
      "file_extension": ".py",
      "mimetype": "text/x-python",
      "name": "python",
      "nbconvert_exporter": "python",
      "pygments_lexer": "ipython3",
      "version": "3.8.13"
    }
  },
  "nbformat": 4,
  "nbformat_minor": 0
}